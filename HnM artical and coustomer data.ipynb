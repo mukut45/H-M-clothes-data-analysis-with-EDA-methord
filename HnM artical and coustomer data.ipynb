{
 "cells": [
  {
   "cell_type": "code",
   "execution_count": 1,
   "id": "2eb76aae-76d1-414e-b51b-8e2c0e9700c7",
   "metadata": {},
   "outputs": [],
   "source": [
    "import pandas as pd"
   ]
  },
  {
   "cell_type": "code",
   "execution_count": 55,
   "id": "56ba84dc-0ec9-4c32-bf10-2a0c36c79ca5",
   "metadata": {},
   "outputs": [
    {
     "data": {
      "text/html": [
       "<div>\n",
       "<style scoped>\n",
       "    .dataframe tbody tr th:only-of-type {\n",
       "        vertical-align: middle;\n",
       "    }\n",
       "\n",
       "    .dataframe tbody tr th {\n",
       "        vertical-align: top;\n",
       "    }\n",
       "\n",
       "    .dataframe thead th {\n",
       "        text-align: right;\n",
       "    }\n",
       "</style>\n",
       "<table border=\"1\" class=\"dataframe\">\n",
       "  <thead>\n",
       "    <tr style=\"text-align: right;\">\n",
       "      <th></th>\n",
       "      <th>t_dat</th>\n",
       "      <th>customer_id</th>\n",
       "      <th>article_id</th>\n",
       "      <th>price</th>\n",
       "      <th>sales_channel_id</th>\n",
       "    </tr>\n",
       "  </thead>\n",
       "  <tbody>\n",
       "    <tr>\n",
       "      <th>0</th>\n",
       "      <td>2018-09-20</td>\n",
       "      <td>000058a12d5b43e67d225668fa1f8d618c13dc232df0ca...</td>\n",
       "      <td>663713001</td>\n",
       "      <td>0.050831</td>\n",
       "      <td>2</td>\n",
       "    </tr>\n",
       "    <tr>\n",
       "      <th>1</th>\n",
       "      <td>2018-09-20</td>\n",
       "      <td>000058a12d5b43e67d225668fa1f8d618c13dc232df0ca...</td>\n",
       "      <td>541518023</td>\n",
       "      <td>0.030492</td>\n",
       "      <td>2</td>\n",
       "    </tr>\n",
       "    <tr>\n",
       "      <th>2</th>\n",
       "      <td>2018-09-20</td>\n",
       "      <td>00007d2de826758b65a93dd24ce629ed66842531df6699...</td>\n",
       "      <td>505221004</td>\n",
       "      <td>0.015237</td>\n",
       "      <td>2</td>\n",
       "    </tr>\n",
       "    <tr>\n",
       "      <th>3</th>\n",
       "      <td>2018-09-20</td>\n",
       "      <td>00007d2de826758b65a93dd24ce629ed66842531df6699...</td>\n",
       "      <td>685687003</td>\n",
       "      <td>0.016932</td>\n",
       "      <td>2</td>\n",
       "    </tr>\n",
       "    <tr>\n",
       "      <th>4</th>\n",
       "      <td>2018-09-20</td>\n",
       "      <td>00007d2de826758b65a93dd24ce629ed66842531df6699...</td>\n",
       "      <td>685687004</td>\n",
       "      <td>0.016932</td>\n",
       "      <td>2</td>\n",
       "    </tr>\n",
       "  </tbody>\n",
       "</table>\n",
       "</div>"
      ],
      "text/plain": [
       "        t_dat                                        customer_id  article_id  \\\n",
       "0  2018-09-20  000058a12d5b43e67d225668fa1f8d618c13dc232df0ca...   663713001   \n",
       "1  2018-09-20  000058a12d5b43e67d225668fa1f8d618c13dc232df0ca...   541518023   \n",
       "2  2018-09-20  00007d2de826758b65a93dd24ce629ed66842531df6699...   505221004   \n",
       "3  2018-09-20  00007d2de826758b65a93dd24ce629ed66842531df6699...   685687003   \n",
       "4  2018-09-20  00007d2de826758b65a93dd24ce629ed66842531df6699...   685687004   \n",
       "\n",
       "      price  sales_channel_id  \n",
       "0  0.050831                 2  \n",
       "1  0.030492                 2  \n",
       "2  0.015237                 2  \n",
       "3  0.016932                 2  \n",
       "4  0.016932                 2  "
      ]
     },
     "execution_count": 55,
     "metadata": {},
     "output_type": "execute_result"
    }
   ],
   "source": [
    "df = pd.read_csv(r\"D:\\Information Technology\\H&M data analysis\\transactions_train.csv\")\n",
    "df.head()"
   ]
  },
  {
   "cell_type": "markdown",
   "id": "8dbd0678-b259-4a69-9de2-e46cd092e7b2",
   "metadata": {},
   "source": [
    "#### Here we can see the data in 'price' column like in very small amout, here it might be scalled like the range between '0 to 1' or maybe its the Prices in Thousands (K-Scaling), due to, no such clear information we have , so that i am not converting it here, but procceding with the analysis as it is data we have."
   ]
  },
  {
   "cell_type": "code",
   "execution_count": 58,
   "id": "c95f086a-0582-4d70-aef7-bd455dabc45d",
   "metadata": {},
   "outputs": [
    {
     "name": "stdout",
     "output_type": "stream",
     "text": [
      "<class 'pandas.core.frame.DataFrame'>\n",
      "RangeIndex: 31788324 entries, 0 to 31788323\n",
      "Data columns (total 5 columns):\n",
      " #   Column            Dtype  \n",
      "---  ------            -----  \n",
      " 0   t_dat             object \n",
      " 1   customer_id       object \n",
      " 2   article_id        int64  \n",
      " 3   price             float64\n",
      " 4   sales_channel_id  int64  \n",
      "dtypes: float64(1), int64(2), object(2)\n",
      "memory usage: 1.2+ GB\n"
     ]
    }
   ],
   "source": [
    "df.info()"
   ]
  },
  {
   "cell_type": "code",
   "execution_count": 59,
   "id": "16fdecf4-f0ee-416b-a9e5-cff08afa6598",
   "metadata": {},
   "outputs": [
    {
     "data": {
      "text/plain": [
       "Index(['t_dat', 'customer_id', 'article_id', 'price', 'sales_channel_id'], dtype='object')"
      ]
     },
     "execution_count": 59,
     "metadata": {},
     "output_type": "execute_result"
    }
   ],
   "source": [
    "df.columns"
   ]
  },
  {
   "cell_type": "code",
   "execution_count": 60,
   "id": "0c8bac02-266c-472b-8201-fd40f8ee5d24",
   "metadata": {},
   "outputs": [],
   "source": [
    "df['t_dat'] = pd.to_datetime(df['t_dat'])"
   ]
  },
  {
   "cell_type": "code",
   "execution_count": 64,
   "id": "08a846f5-5ef9-4013-9778-a457481f1b37",
   "metadata": {},
   "outputs": [
    {
     "name": "stdout",
     "output_type": "stream",
     "text": [
      "<class 'pandas.core.frame.DataFrame'>\n",
      "RangeIndex: 31788324 entries, 0 to 31788323\n",
      "Data columns (total 5 columns):\n",
      " #   Column            Dtype         \n",
      "---  ------            -----         \n",
      " 0   t_dat             datetime64[ns]\n",
      " 1   customer_id       object        \n",
      " 2   article_id        int64         \n",
      " 3   price             float64       \n",
      " 4   sales_channel_id  int64         \n",
      "dtypes: datetime64[ns](1), float64(1), int64(2), object(1)\n",
      "memory usage: 1.2+ GB\n"
     ]
    }
   ],
   "source": [
    "df.info()"
   ]
  },
  {
   "cell_type": "code",
   "execution_count": 66,
   "id": "6744b720-ca80-40d8-a081-894441f33395",
   "metadata": {},
   "outputs": [
    {
     "name": "stdout",
     "output_type": "stream",
     "text": [
      "t_dat               0\n",
      "customer_id         0\n",
      "article_id          0\n",
      "price               0\n",
      "sales_channel_id    0\n",
      "dtype: int64\n"
     ]
    }
   ],
   "source": [
    "# Check missing values\n",
    "print(df.isnull().sum())"
   ]
  },
  {
   "cell_type": "code",
   "execution_count": 68,
   "id": "da06caeb-e8f5-4b3c-b25f-4d12024cc8c3",
   "metadata": {},
   "outputs": [
    {
     "name": "stdout",
     "output_type": "stream",
     "text": [
      "2974905\n"
     ]
    }
   ],
   "source": [
    "# Check duplicates\n",
    "print(df.duplicated().sum()) # we can not drop the duplicate values here because one coustomer can buy one product multiple time so that being duplicate is normal"
   ]
  },
  {
   "cell_type": "code",
   "execution_count": 69,
   "id": "5b8b5bce-519e-4b9a-965a-6140bf59d379",
   "metadata": {},
   "outputs": [
    {
     "name": "stdout",
     "output_type": "stream",
     "text": [
      "30426043\n"
     ]
    }
   ],
   "source": [
    "print(df['customer_id'].duplicated().sum())"
   ]
  },
  {
   "cell_type": "code",
   "execution_count": 71,
   "id": "ca80df69-c714-4402-93f8-c3a6e24475d9",
   "metadata": {},
   "outputs": [
    {
     "name": "stdout",
     "output_type": "stream",
     "text": [
      "count    3.178832e+07\n",
      "mean     2.782927e-02\n",
      "std      1.918113e-02\n",
      "min      1.694915e-05\n",
      "25%      1.581356e-02\n",
      "50%      2.540678e-02\n",
      "75%      3.388136e-02\n",
      "max      5.915254e-01\n",
      "Name: price, dtype: float64\n"
     ]
    }
   ],
   "source": [
    "print(df['price'].describe()) # analysing the outliers here in the 'price' column"
   ]
  },
  {
   "cell_type": "code",
   "execution_count": 74,
   "id": "423ac474-39f0-4744-8258-52019036fc75",
   "metadata": {},
   "outputs": [
    {
     "name": "stdout",
     "output_type": "stream",
     "text": [
      "2\n"
     ]
    }
   ],
   "source": [
    "print(df['sales_channel_id'].nunique()) # here we generaly see 1 = online, 2 = offline, we can map the data as well, like 1 converts to online and 2 converts to offline"
   ]
  },
  {
   "cell_type": "code",
   "execution_count": 90,
   "id": "8393f777-835e-4127-bb04-7c68cd8421a0",
   "metadata": {},
   "outputs": [
    {
     "name": "stdout",
     "output_type": "stream",
     "text": [
      "sales_channel_id\n",
      "2    22379862\n",
      "1     9408462\n",
      "Name: count, dtype: int64\n"
     ]
    }
   ],
   "source": [
    "print(df['sales_channel_id'].value_counts()) # here we can see specific order channel counts, hence, offline orders are more then online"
   ]
  },
  {
   "cell_type": "code",
   "execution_count": 92,
   "id": "b1fa9137-a961-4a40-b898-059933b65a95",
   "metadata": {},
   "outputs": [],
   "source": [
    "df['Sales_channel'] = df['sales_channel_id'].map({1: 'online' , 2: 'offline'}) # mapping 1 as online and 2 as offline, as added a new column in a dataset "
   ]
  },
  {
   "cell_type": "code",
   "execution_count": 106,
   "id": "bbbb1da2-d114-4dca-b03d-01c247602bac",
   "metadata": {},
   "outputs": [
    {
     "name": "stdout",
     "output_type": "stream",
     "text": [
      "0    offline\n",
      "1    offline\n",
      "2    offline\n",
      "3    offline\n",
      "4    offline\n",
      "5    offline\n",
      "6    offline\n",
      "7     online\n",
      "8     online\n",
      "9    offline\n",
      "Name: Sales_channel, dtype: object\n"
     ]
    }
   ],
   "source": [
    "print(df['Sales_channel'].head(10)) "
   ]
  },
  {
   "cell_type": "code",
   "execution_count": 104,
   "id": "bf962903-ca19-4ded-bbb8-5738a2130a3c",
   "metadata": {},
   "outputs": [
    {
     "data": {
      "text/plain": [
       "Index(['t_dat', 'customer_id', 'article_id', 'price', 'sales_channel_id',\n",
       "       'Sales_channel'],\n",
       "      dtype='object')"
      ]
     },
     "execution_count": 104,
     "metadata": {},
     "output_type": "execute_result"
    }
   ],
   "source": [
    "df.columns # checking added new column in dataset"
   ]
  },
  {
   "cell_type": "code",
   "execution_count": 108,
   "id": "4704730d-8bd2-43ba-8d0f-cc51f19664cb",
   "metadata": {},
   "outputs": [
    {
     "name": "stdout",
     "output_type": "stream",
     "text": [
      "article_id\n",
      "706016001    50287\n",
      "706016002    35043\n",
      "372860001    31718\n",
      "610776002    30199\n",
      "759871002    26329\n",
      "             ...  \n",
      "520736002        1\n",
      "619777003        1\n",
      "586904003        1\n",
      "512385003        1\n",
      "533261032        1\n",
      "Name: count, Length: 104547, dtype: int64\n"
     ]
    }
   ],
   "source": [
    "print(df['article_id'].value_counts()) # checking uniqur article id and its total number of count"
   ]
  },
  {
   "cell_type": "code",
   "execution_count": null,
   "id": "bfbad17e-cbe8-4c76-9cfe-2f28c567c1a1",
   "metadata": {},
   "outputs": [],
   "source": []
  }
 ],
 "metadata": {
  "kernelspec": {
   "display_name": "Python 3 (ipykernel)",
   "language": "python",
   "name": "python3"
  },
  "language_info": {
   "codemirror_mode": {
    "name": "ipython",
    "version": 3
   },
   "file_extension": ".py",
   "mimetype": "text/x-python",
   "name": "python",
   "nbconvert_exporter": "python",
   "pygments_lexer": "ipython3",
   "version": "3.12.4"
  }
 },
 "nbformat": 4,
 "nbformat_minor": 5
}
